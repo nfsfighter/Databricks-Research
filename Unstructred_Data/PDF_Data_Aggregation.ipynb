{
 "cells": [
  {
   "cell_type": "code",
   "execution_count": 0,
   "metadata": {
    "application/vnd.databricks.v1+cell": {
     "cellMetadata": {
      "byteLimit": 2048000,
      "rowLimit": 10000
     },
     "inputWidgets": {},
     "nuid": "f9a7bc9e-5a8c-46cc-b4c0-337b04c35e96",
     "showTitle": false,
     "tableResultSettingsMap": {},
     "title": ""
    }
   },
   "outputs": [],
   "source": [
    "from pyspark.sql.functions import col, count, countDistinct, min, max, when\n",
    "\n",
    "agg_df = spark.table(\"databricks_catalog.invoice_schema.vendor_invoice_cleaned\") \n",
    "\n",
    "# Total number of invoices\n",
    "agg_df.count()\n",
    "\n",
    "# Invoices per vendor\n",
    "agg_df.groupBy(\"vendor\").agg(count(\"*\").alias(\"invoice_count\")).orderBy(\"invoice_count\", ascending=False).show()\n",
    "\n",
    "# Invoices per invoice_date\n",
    "agg_df.groupBy(\"invoice_date\").agg(count(\"*\").alias(\"daily_invoices\")).orderBy(\"invoice_date\").show()\n",
    "\n",
    "# Invoices per bill_to\n",
    "agg_df.groupBy(\"bill_to\").agg(count(\"*\").alias(\"invoice_count\")).orderBy(\"invoice_count\", ascending=False).show()\n",
    "\n",
    "# Invoices with and without bill_to\n",
    "agg_df.select(\n",
    "    count(when(col(\"bill_to\").isNotNull(), True)).alias(\"with_bill_to\"),\n",
    "    count(when(col(\"bill_to\").isNull(), True)).alias(\"without_bill_to\")\n",
    ").show()\n",
    "\n",
    "# Distinct vendors and bill_to entries\n",
    "agg_df.select(\n",
    "    countDistinct(\"vendor\").alias(\"unique_vendors\"),\n",
    "    countDistinct(\"bill_to\").alias(\"unique_bill_to\")\n",
    ").show()\n",
    "\n",
    "# Earliest and latest invoice date\n",
    "agg_df.select(\n",
    "    min(\"invoice_date\").alias(\"earliest_date\"),\n",
    "    max(\"invoice_date\").alias(\"latest_date\")\n",
    ").show()\n"
   ]
  }
 ],
 "metadata": {
  "application/vnd.databricks.v1+notebook": {
   "computePreferences": null,
   "dashboards": [],
   "environmentMetadata": {
    "base_environment": "",
    "environment_version": "4"
   },
   "inputWidgetPreferences": null,
   "language": "python",
   "notebookMetadata": {
    "pythonIndentUnit": 4
   },
   "notebookName": "PDF_Data_Aggregation",
   "widgets": {}
  },
  "language_info": {
   "name": "python"
  }
 },
 "nbformat": 4,
 "nbformat_minor": 0
}
