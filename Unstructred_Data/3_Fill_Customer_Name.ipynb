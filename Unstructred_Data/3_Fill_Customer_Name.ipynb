{
 "cells": [
  {
   "cell_type": "code",
   "execution_count": 0,
   "metadata": {
    "application/vnd.databricks.v1+cell": {
     "cellMetadata": {
      "byteLimit": 2048000,
      "rowLimit": 10000
     },
     "inputWidgets": {},
     "nuid": "37689b27-994c-42e8-97fd-ae759c2987b4",
     "showTitle": false,
     "tableResultSettingsMap": {
      "0": {
       "dataGridStateBlob": "{\"version\":1,\"tableState\":{\"columnPinning\":{\"left\":[\"#row_number#\"],\"right\":[]},\"columnSizing\":{\"address\":343},\"columnVisibility\":{}},\"settings\":{\"columns\":{}},\"syncTimestamp\":1761124502902}",
       "filterBlob": null,
       "queryPlanFiltersBlob": null,
       "tableResultIndex": 0
      }
     },
     "title": ""
    }
   },
   "outputs": [],
   "source": [
    "from pyspark.sql.functions import regexp_extract, trim, col, when, regexp_replace\n",
    "\n",
    "# Load the existing invoice table\n",
    "clean_df = spark.table(\"databricks_catalog.invoice_schema.cleansed_invoice_table\")\n",
    "\n",
    "# List of numeric columns that might contain commas or text\n",
    "numeric_cols = [\"quantity\", \"unit_cost\", \"subtotal\", \"discount\", \"shipping_fee\", \"total\"]\n",
    "\n",
    "# Clean commas and cast to double safely\n",
    "for c in numeric_cols:\n",
    "    clean_df = clean_df.withColumn(\n",
    "        c,\n",
    "        regexp_replace(col(c).cast(\"string\"), \",\", \"\").cast(\"double\")\n",
    "    )\n",
    "\n",
    "# Extract customer name from file_name if missing\n",
    "clean_df = clean_df.withColumn(\n",
    "    \"extracted_customer_name\", \n",
    "    regexp_extract(\n",
    "        col(\"file_name\"), \n",
    "        r\"invoice_(.*?)_\\d+\\.pdf\", \n",
    "        1\n",
    "    )\n",
    ")\n",
    "\n",
    "# Replace empty or null customer_name with extracted value\n",
    "clean_df = clean_df.withColumn(\n",
    "    \"customer_name\",\n",
    "    when(\n",
    "        (col(\"customer_name\").isNull()) | (trim(col(\"customer_name\")) == \"\"), \n",
    "        col(\"extracted_customer_name\")\n",
    "    ).otherwise(col(\"customer_name\"))\n",
    ")\n",
    "\n",
    "# Trim the raw text\n",
    "clean_df = clean_df.withColumn(\n",
    "    \"raw_text\",\n",
    "    regexp_replace(col(\"raw_text\"), r\"(?is)^.*?Bill\", \"Bill\")\n",
    ")\n",
    "\n",
    "# Drop helper column\n",
    "clean_df = clean_df.drop(\"extracted_customer_name\")\n",
    "\n",
    "# Save the cleaned data back to a Delta table\n",
    "clean_df.write.format(\"delta\").mode(\"overwrite\").saveAsTable(\n",
    "    \"databricks_catalog.invoice_schema.customer_invoice_cleaned\"\n",
    ")\n",
    "\n",
    "display(clean_df)"
   ]
  }
 ],
 "metadata": {
  "application/vnd.databricks.v1+notebook": {
   "computePreferences": null,
   "dashboards": [],
   "environmentMetadata": {
    "base_environment": "",
    "environment_version": "4"
   },
   "inputWidgetPreferences": null,
   "language": "python",
   "notebookMetadata": {
    "pythonIndentUnit": 4
   },
   "notebookName": "3_Fill_Customer_Name",
   "widgets": {}
  },
  "language_info": {
   "name": "python"
  }
 },
 "nbformat": 4,
 "nbformat_minor": 0
}
