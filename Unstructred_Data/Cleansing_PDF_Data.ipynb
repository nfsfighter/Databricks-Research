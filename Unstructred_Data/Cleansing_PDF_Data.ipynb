{
 "cells": [
  {
   "cell_type": "code",
   "execution_count": 0,
   "metadata": {
    "application/vnd.databricks.v1+cell": {
     "cellMetadata": {
      "byteLimit": 2048000,
      "rowLimit": 10000
     },
     "inputWidgets": {},
     "nuid": "19fee46f-3ac0-4e8f-b212-2fab81ec4de5",
     "showTitle": false,
     "tableResultSettingsMap": {},
     "title": ""
    }
   },
   "outputs": [],
   "source": [
    "from pyspark.sql.functions import regexp_extract, trim, col, when\n",
    "\n",
    "#Trim the additional information from vendor name\n",
    "clean_df = (\n",
    "    spark.table(\"databricks_catalog.invoice_schema.inovice_table\") \n",
    "    .withColumn(\n",
    "        \"vendor\",\n",
    "        trim(regexp_extract(\"vendor\", r\"^(.*?)\\s+(Date|Address|Invoice No)\", 1))\n",
    "    )\n",
    "    .withColumn(\"vendor\", when(col(\"vendor\") == \"Omega Tech\", \"Omega Tech Solutions\").otherwise(col(\"vendor\")))\n",
    "    .withColumn(\"vendor\", when(col(\"vendor\") == \"ABC Supplies\", \"ABC Supplies LLC\").otherwise(col(\"vendor\")))\n",
    ")\n",
    "\n",
    "#save the changes to the table\n",
    "clean_df.write.format(\"delta\").mode(\"overwrite\").saveAsTable(\"databricks_catalog.invoice_schema.vendor_invoice_cleaned\")\n"
   ]
  },
  {
   "cell_type": "code",
   "execution_count": 0,
   "metadata": {
    "application/vnd.databricks.v1+cell": {
     "cellMetadata": {
      "byteLimit": 2048000,
      "rowLimit": 10000
     },
     "inputWidgets": {},
     "nuid": "8dc838d7-1f33-48a9-80aa-5c014f91860f",
     "showTitle": false,
     "tableResultSettingsMap": {
      "0": {
       "dataGridStateBlob": "{\"version\":1,\"tableState\":{\"columnPinning\":{\"left\":[\"#row_number#\"],\"right\":[]},\"columnSizing\":{\"vendor\":307,\"bill_to\":324,\"#row_number#\":52},\"columnVisibility\":{}},\"settings\":{\"columns\":{}},\"syncTimestamp\":1760336381064}",
       "filterBlob": null,
       "queryPlanFiltersBlob": null,
       "tableResultIndex": 0
      }
     },
     "title": ""
    }
   },
   "outputs": [],
   "source": [
    "display(spark.table(\"databricks_catalog.invoice_schema.vendor_invoice_cleaned\"))"
   ]
  }
 ],
 "metadata": {
  "application/vnd.databricks.v1+notebook": {
   "computePreferences": null,
   "dashboards": [],
   "environmentMetadata": {
    "base_environment": "",
    "environment_version": "4"
   },
   "inputWidgetPreferences": null,
   "language": "python",
   "notebookMetadata": {
    "pythonIndentUnit": 4
   },
   "notebookName": "Cleansing_PDF_Data",
   "widgets": {}
  },
  "language_info": {
   "name": "python"
  }
 },
 "nbformat": 4,
 "nbformat_minor": 0
}
