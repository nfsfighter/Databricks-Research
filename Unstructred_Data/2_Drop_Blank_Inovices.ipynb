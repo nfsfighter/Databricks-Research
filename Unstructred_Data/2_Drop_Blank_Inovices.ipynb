{
 "cells": [
  {
   "cell_type": "code",
   "execution_count": 0,
   "metadata": {
    "application/vnd.databricks.v1+cell": {
     "cellMetadata": {
      "byteLimit": 2048000,
      "rowLimit": 10000
     },
     "inputWidgets": {},
     "nuid": "b91ca8a6-434e-4a1a-94c1-93bfa73fd2c6",
     "showTitle": false,
     "tableResultSettingsMap": {
      "0": {
       "dataGridStateBlob": "{\"version\":1,\"tableState\":{\"columnPinning\":{\"left\":[\"#row_number#\"],\"right\":[]},\"columnSizing\":{\"customer_name\":157},\"columnVisibility\":{}},\"settings\":{\"columns\":{}},\"syncTimestamp\":1761123093757}",
       "filterBlob": null,
       "queryPlanFiltersBlob": null,
       "tableResultIndex": 0
      }
     },
     "title": ""
    }
   },
   "outputs": [],
   "source": [
    "from pyspark.sql.functions import regexp_extract, regexp_replace, trim, col, when\n",
    "\n",
    "# Load the existing invoice table\n",
    "blank_df = spark.table(\"databricks_catalog.invoice_schema.raw_inovice_table\")\n",
    "\n",
    "# Remove Invoice with Blank Total\n",
    "cleansed_df = (\n",
    "    blank_df.na.drop()\n",
    "    .withColumn(\"total_clean\", trim(regexp_replace(col(\"total\"), \"[$,]\", \"\")).cast(\"double\"))\n",
    "    .filter(col(\"total_clean\") != 0)\n",
    "    .drop(\"total_clean\")\n",
    ")\n",
    "\n",
    "display(cleansed_df)\n",
    "\n",
    "# Save the cleaned data to Delta\n",
    "cleansed_df.write.format(\"delta\").mode(\"overwrite\").saveAsTable(\n",
    "    \"databricks_catalog.invoice_schema.cleansed_invoice_table\"\n",
    ")"
   ]
  }
 ],
 "metadata": {
  "application/vnd.databricks.v1+notebook": {
   "computePreferences": null,
   "dashboards": [],
   "environmentMetadata": {
    "base_environment": "",
    "environment_version": "4"
   },
   "inputWidgetPreferences": null,
   "language": "python",
   "notebookMetadata": {
    "pythonIndentUnit": 4
   },
   "notebookName": "2_Drop_Blank_Inovices",
   "widgets": {}
  },
  "language_info": {
   "name": "python"
  }
 },
 "nbformat": 4,
 "nbformat_minor": 0
}
