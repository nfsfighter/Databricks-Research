{
 "cells": [
  {
   "cell_type": "code",
   "execution_count": 0,
   "metadata": {
    "application/vnd.databricks.v1+cell": {
     "cellMetadata": {
      "byteLimit": 2048000,
      "rowLimit": 10000
     },
     "inputWidgets": {},
     "nuid": "c4135d23-df6d-4d74-8105-f89fce348402",
     "showTitle": false,
     "tableResultSettingsMap": {},
     "title": ""
    }
   },
   "outputs": [],
   "source": [
    "from pyspark.sql.functions import sum as _sum, avg, countDistinct\n",
    "\n",
    "parsed_df = spark.table(\"databricks_catalog.invoice_schema.customer_invoice_country\")\n",
    "\n",
    "agg_customer_order = (\n",
    "    parsed_df\n",
    "    .groupBy(\"customer_name\", \"order_id\", \"country\", \"ship_mode\", \"order_date\")\n",
    "    .agg(\n",
    "        _sum(\"quantity\").alias(\"total_quantity\"),\n",
    "        _sum(\"subtotal\").alias(\"total_subtotal\"),\n",
    "        _sum(\"discount\").alias(\"total_discount\"),\n",
    "        _sum(\"shipping_fee\").alias(\"total_shipping\"),\n",
    "        _sum(\"total\").alias(\"total_amount\"),\n",
    "        countDistinct(\"product_id\").alias(\"unique_products\")\n",
    "    )\n",
    ")\n",
    "\n",
    "display(agg_customer_order)\n"
   ]
  }
 ],
 "metadata": {
  "application/vnd.databricks.v1+notebook": {
   "computePreferences": null,
   "dashboards": [],
   "environmentMetadata": {
    "base_environment": "",
    "environment_version": "4"
   },
   "inputWidgetPreferences": null,
   "language": "python",
   "notebookMetadata": {
    "pythonIndentUnit": 4
   },
   "notebookName": "Aggregate by Customer & Order",
   "widgets": {}
  },
  "language_info": {
   "name": "python"
  }
 },
 "nbformat": 4,
 "nbformat_minor": 0
}
