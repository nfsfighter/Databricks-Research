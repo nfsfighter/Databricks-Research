{
 "cells": [
  {
   "cell_type": "code",
   "execution_count": 0,
   "metadata": {
    "application/vnd.databricks.v1+cell": {
     "cellMetadata": {
      "byteLimit": 2048000,
      "rowLimit": 10000
     },
     "inputWidgets": {},
     "nuid": "de7e7690-7eb6-40a5-93b1-0f0d036b1e4b",
     "showTitle": false,
     "tableResultSettingsMap": {},
     "title": ""
    }
   },
   "outputs": [],
   "source": [
    "from pyspark.sql import functions as F\n",
    "\n",
    "# Load the table from the catalog into a DataFrame\n",
    "df = spark.table(\"databricks_catalog.invoice_schema.customer_invoice_country\")\n",
    "\n",
    "# Clean numeric columns (remove commas, cast to float)\n",
    "numeric_cols = [\"quantity\", \"unit_cost\", \"subtotal\", \"discount\", \"shipping_fee\", \"total\"]\n",
    "for col_name in numeric_cols:\n",
    "    df = df.withColumn(\n",
    "        col_name,\n",
    "        F.regexp_replace(F.col(col_name), \",\", \"\").cast(\"double\")\n",
    "    )\n",
    "\n",
    "# Optional: Strip whitespaces from column names (in case of inconsistency)\n",
    "df = df.select([F.col(c).alias(c.strip()) for c in df.columns])\n",
    "\n",
    "# =====================\n",
    "# 1. Total Sales by Customer\n",
    "# =====================\n",
    "sales_by_customer = df.groupBy(\"customer_name\").agg(\n",
    "    F.round(F.sum(\"total\"), 2).alias(\"total_sales\")\n",
    ")\n",
    "\n",
    "# =====================\n",
    "# 2. Sales by Category\n",
    "# =====================\n",
    "sales_by_category = df.groupBy(\"category\").agg(\n",
    "    F.round(F.sum(\"total\"), 2).alias(\"total_sales\")\n",
    ")\n",
    "\n",
    "# =====================\n",
    "# 3. Sales by Sub-Category\n",
    "# =====================\n",
    "sales_by_sub_category = df.groupBy(\"sub_category\").agg(\n",
    "    F.round(F.sum(\"total\"), 2).alias(\"total_sales\")\n",
    ")\n",
    "\n",
    "# =====================\n",
    "# 4. Sales by Ship Mode\n",
    "# =====================\n",
    "sales_by_ship_mode = df.groupBy(\"ship_mode\").agg(\n",
    "    F.round(F.sum(\"total\"), 2).alias(\"total_sales\")\n",
    ")\n",
    "\n",
    "# =====================\n",
    "# 5. Total Discounts and Shipping Fees\n",
    "# =====================\n",
    "totals = df.select(\n",
    "    F.round(F.sum(\"discount\"), 2).alias(\"total_discount\"),\n",
    "    F.round(F.sum(\"shipping_fee\"), 2).alias(\"total_shipping_fee\")\n",
    ")\n",
    "\n",
    "# =====================\n",
    "# 6. Sales by Region (parsed from address)\n",
    "# Assumes address format like: \"ZIP, City, State, Country\"\n",
    "# =====================\n",
    "df = df.withColumn(\"region\", F.split(F.col(\"address\"), \",\").getItem(2))\n",
    "sales_by_region = df.groupBy(\"region\").agg(\n",
    "    F.round(F.sum(\"total\"), 2).alias(\"total_sales\")\n",
    ")\n",
    "\n",
    "# =====================\n",
    "# Show results (you can also save these as tables or export)\n",
    "# =====================\n",
    "sales_by_customer.show()\n",
    "sales_by_category.show()\n",
    "sales_by_sub_category.show()\n",
    "sales_by_ship_mode.show()\n",
    "sales_by_region.show()\n",
    "totals.show()\n"
   ]
  }
 ],
 "metadata": {
  "application/vnd.databricks.v1+notebook": {
   "computePreferences": null,
   "dashboards": [],
   "environmentMetadata": {
    "base_environment": "",
    "environment_version": "4"
   },
   "inputWidgetPreferences": null,
   "language": "python",
   "notebookMetadata": {
    "pythonIndentUnit": 4
   },
   "notebookName": "Untitled Notebook 2025-10-22 13_46_47",
   "widgets": {}
  },
  "language_info": {
   "name": "python"
  }
 },
 "nbformat": 4,
 "nbformat_minor": 0
}
