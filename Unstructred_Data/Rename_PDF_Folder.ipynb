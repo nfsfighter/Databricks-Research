{
 "cells": [
  {
   "cell_type": "code",
   "execution_count": 0,
   "metadata": {
    "application/vnd.databricks.v1+cell": {
     "cellMetadata": {
      "byteLimit": 2048000,
      "rowLimit": 10000
     },
     "inputWidgets": {},
     "nuid": "061ed142-28dc-4b8e-b3b3-9a0644d6cdf2",
     "showTitle": false,
     "tableResultSettingsMap": {},
     "title": ""
    }
   },
   "outputs": [],
   "source": [
    "old_folder_path = \"/Volumes/databricks_catalog/invoice_schema/pdf/1000+ PDF_Invoice_Folder/\"\n",
    "new_folder_path = \"/Volumes/databricks_catalog/invoice_schema/pdf/PDF_Invoice_Folder/\"\n",
    "\n",
    "dbutils.fs.mv(old_folder_path, new_folder_path, True) "
   ]
  }
 ],
 "metadata": {
  "application/vnd.databricks.v1+notebook": {
   "computePreferences": null,
   "dashboards": [],
   "environmentMetadata": {
    "base_environment": "",
    "environment_version": "4"
   },
   "inputWidgetPreferences": null,
   "language": "python",
   "notebookMetadata": {
    "pythonIndentUnit": 4
   },
   "notebookName": "Rename_PDF_Folder",
   "widgets": {}
  },
  "language_info": {
   "name": "python"
  }
 },
 "nbformat": 4,
 "nbformat_minor": 0
}
