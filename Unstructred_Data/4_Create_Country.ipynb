{
 "cells": [
  {
   "cell_type": "code",
   "execution_count": 0,
   "metadata": {
    "application/vnd.databricks.v1+cell": {
     "cellMetadata": {
      "byteLimit": 2048000,
      "rowLimit": 10000
     },
     "inputWidgets": {},
     "nuid": "37689b27-994c-42e8-97fd-ae759c2987b4",
     "showTitle": false,
     "tableResultSettingsMap": {
      "0": {
       "dataGridStateBlob": "{\"version\":1,\"tableState\":{\"columnPinning\":{\"left\":[\"#row_number#\"],\"right\":[]},\"columnSizing\":{\"address\":343},\"columnVisibility\":{}},\"settings\":{\"columns\":{}},\"syncTimestamp\":1761124502902}",
       "filterBlob": null,
       "queryPlanFiltersBlob": null,
       "tableResultIndex": 0
      }
     },
     "title": ""
    }
   },
   "outputs": [],
   "source": [
    "from pyspark.sql.functions import regexp_extract, trim, col, when, regexp_replace\n",
    "\n",
    "# Load the existing invoice table\n",
    "clean_df = spark.table(\"databricks_catalog.invoice_schema.customer_invoice_cleaned\")\n",
    "\n",
    "# Extract country from raw_text → into 'country_from_raw'\n",
    "clean_df = clean_df.withColumn(\n",
    "    \"country_from_raw\", \n",
    "    regexp_extract(\n",
    "        col(\"raw_text\"), \n",
    "        r\"\\b(Honduras|Vietnam|United States|France|Estonia|Austria|Mexico)\\b\", \n",
    "        1\n",
    "    )\n",
    ")\n",
    "\n",
    "# Clean address newlines\n",
    "clean_df = clean_df.withColumn(\"address_cleaned\", regexp_replace(\"address\", r\"\\n\", \" \"))\n",
    "\n",
    "# Extract country from address_cleaned → into 'country_from_address'\n",
    "clean_df = clean_df.withColumn(\n",
    "    \"country_from_address\",\n",
    "    regexp_extract(col(\"address_cleaned\"), r\"(\\b\\w+(?: \\w+)*?)\\s*$\", 1)\n",
    ")\n",
    "\n",
    "# Set 'country' column:\n",
    "# - If address is empty, use country_from_raw\n",
    "# - Else use country_from_address\n",
    "clean_df = clean_df.withColumn(\n",
    "    \"country\",\n",
    "    when(\n",
    "        (col(\"address\").isNull()) | (trim(col(\"address\")) == \"\"), \n",
    "        col(\"country_from_raw\")\n",
    "    ).otherwise(col(\"country_from_address\"))\n",
    ")\n",
    "\n",
    "clean_df = clean_df.withColumn(\n",
    "    \"country\",\n",
    "    when(col(\"address_cleaned\").rlike(r\".*\\bEngland\\b.*\"), \"United Kingdom\")\n",
    "    .when(col(\"address_cleaned\").rlike(r\"^\\d{6}\"), \"United States\")\n",
    "    .otherwise(col(\"country\"))\n",
    ")\n",
    "\n",
    "# Trim leading/trailing spaces from the address column\n",
    "clean_df = clean_df.withColumn(\"address\", trim(col(\"address\")))\n",
    "\n",
    "# Drop rows where address is null or empty after trimming\n",
    "clean_df = clean_df.filter((col(\"address\").isNotNull()) & (col(\"address\") != \"\"))\n",
    "\n",
    "# Drop helper columns if desired\n",
    "clean_df = clean_df.drop(\"country_from_raw\", \"country_from_address\", \"address_cleaned\")\n",
    "\n",
    "# Save the cleaned data back to a Delta table\n",
    "clean_df.write.format(\"delta\").mode(\"overwrite\").saveAsTable(\n",
    "    \"databricks_catalog.invoice_schema.customer_invoice_country\"\n",
    ")\n",
    "\n",
    "display(clean_df)\n"
   ]
  }
 ],
 "metadata": {
  "application/vnd.databricks.v1+notebook": {
   "computePreferences": null,
   "dashboards": [],
   "environmentMetadata": {
    "base_environment": "",
    "environment_version": "4"
   },
   "inputWidgetPreferences": null,
   "language": "python",
   "notebookMetadata": {
    "pythonIndentUnit": 4
   },
   "notebookName": "4_Create_Country",
   "widgets": {}
  },
  "language_info": {
   "name": "python"
  }
 },
 "nbformat": 4,
 "nbformat_minor": 0
}
