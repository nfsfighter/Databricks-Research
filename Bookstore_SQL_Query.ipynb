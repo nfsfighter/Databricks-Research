{
 "cells": [
  {
   "cell_type": "code",
   "execution_count": 0,
   "metadata": {
    "application/vnd.databricks.v1+cell": {
     "cellMetadata": {
      "byteLimit": 2048000,
      "rowLimit": 10000
     },
     "inputWidgets": {},
     "nuid": "e8462502-2287-47fc-aea9-29d9df188995",
     "showTitle": false,
     "tableResultSettingsMap": {},
     "title": ""
    }
   },
   "outputs": [],
   "source": [
    "CREATE OR REPLACE TEMP VIEW json_temp_view AS\n",
    "SELECT *\n",
    "FROM json.`/Volumes/databricks_catalog/bookstore_schema/01_sourcedata/01.json`;\n",
    "\n",
    "CREATE TABLE databricks_catalog.bookstore_schema.raw_bookstore\n",
    "USING DELTA\n",
    "AS\n",
    "SELECT * FROM json_temp_view;"
   ]
  }
 ],
 "metadata": {
  "application/vnd.databricks.v1+notebook": {
   "computePreferences": null,
   "dashboards": [],
   "environmentMetadata": {
    "base_environment": "",
    "environment_version": "3"
   },
   "inputWidgetPreferences": null,
   "language": "sql",
   "notebookMetadata": {
    "pythonIndentUnit": 4
   },
   "notebookName": "Bookstore_SQL_Query",
   "widgets": {}
  },
  "language_info": {
   "name": "sql"
  }
 },
 "nbformat": 4,
 "nbformat_minor": 0
}
